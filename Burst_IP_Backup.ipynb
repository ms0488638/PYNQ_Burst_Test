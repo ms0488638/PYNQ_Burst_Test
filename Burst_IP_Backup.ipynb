{
 "cells": [
  {
   "cell_type": "code",
   "execution_count": 1,
   "metadata": {},
   "outputs": [
    {
     "data": {
      "application/javascript": [
       "\n",
       "require(['notebook/js/codecell'], function(codecell) {\n",
       "  codecell.CodeCell.options_default.highlight_modes[\n",
       "      'magic_text/x-csrc'] = {'reg':[/^%%microblaze/]};\n",
       "  Jupyter.notebook.events.one('kernel_ready.Kernel', function(){\n",
       "      Jupyter.notebook.get_cells().map(function(cell){\n",
       "          if (cell.cell_type == 'code'){ cell.auto_highlight(); } }) ;\n",
       "  });\n",
       "});\n"
      ]
     },
     "metadata": {},
     "output_type": "display_data"
    }
   ],
   "source": [
    "#==================================================\n",
    "#                import package\n",
    "#=================================================\n",
    "import math\n",
    "from pynq import Overlay\n",
    "import numpy as np\n",
    "import math\n",
    "from pynq import MMIO\n",
    "from pynq import Xlnk\n",
    "import time\n",
    "import ctypes\n"
   ]
  },
  {
   "cell_type": "code",
   "execution_count": 2,
   "metadata": {},
   "outputs": [],
   "source": [
    "def get_mb(mmu):\n",
    "    return int(mmu.cma_stats()['CMA Memory Available']//1024//1024)\n",
    "\n",
    "def get_kb(mmu):\n",
    "    return int(mmu.cma_stats()['CMA Memory Available']//1024)\n",
    "\n",
    "def get_bufcount(mmu):\n",
    "    return int(memmanager.cma_stats()['Buffer Count'])\n",
    "\n",
    "def print_kb(mmu):\n",
    "    print(\"Available Memory (KB): \" + str(get_kb(mmu)))\n",
    "\n",
    "def print_mb(mmu):\n",
    "    print(\"Available Memory (MB): \" + str(get_mb(mmu)))"
   ]
  },
  {
   "cell_type": "code",
   "execution_count": 3,
   "metadata": {},
   "outputs": [],
   "source": [
    "# Maximum Length: 64MB=16*1024*1024 (4byte) 16777216\n",
    "DATA_SIZE=16777216\n",
    "\n",
    "# How many 32-bit data to transfer into memory\n",
    "DATA_NUM=16777216\n",
    "# Setting the proper\n",
    "BURST_LENGTH=256"
   ]
  },
  {
   "cell_type": "code",
   "execution_count": 4,
   "metadata": {},
   "outputs": [],
   "source": [
    "#IP_base_address\n",
    "IP_BASE_ADDRESS = 0x43C00000\n",
    "ADDRESS_RANGE   = 0x180\n",
    "\n",
    "#AP_CTRL Signal\n",
    "XTOP_FUNCTION_CTRL_BUS_ADDR_AP_CTRL           =0x00\n",
    "# Global Interrupt ENABLE\n",
    "XTOP_FUNCTION_CTRL_BUS_ADDR_GIE               =0x04\n",
    "# IP Interrupt Enable Register\n",
    "XTOP_FUNCTION_CTRL_BUS_ADDR_IER               =0x08\n",
    "# IP Interrupt Status Register\n",
    "XTOP_FUNCTION_CTRL_BUS_ADDR_ISR               =0x0c\n",
    "# Input Data base address\n",
    "XTOP_FUNCTION_CTRL_BUS_ADDR_INPUT_R_DATA      =0x10\n",
    "# Number of data to be transferred\n",
    "XTOP_FUNCTION_CTRL_BUS_ADDR_DATA_NUM_DATA     =0x18\n",
    "# Number of Maximum Burst\n",
    "XTOP_FUNCTION_CTRL_BUS_ADDR_BURST_LENGTH_DATA =0x20\n",
    "\n",
    "\n",
    "\n",
    "def transmit_ip(IN_Address, DATA_NUM, BURST_LENGTH):\n",
    "    mmio = MMIO(IP_BASE_ADDRESS,ADDRESS_RANGE)\n",
    "    \n",
    "    while True:\n",
    "        ap_idle =(mmio.read(XTOP_FUNCTION_CTRL_BUS_ADDR_AP_CTRL)>>2)&0X1\n",
    "        if(ap_idle):\n",
    "            break\n",
    "    mmio.write(XTOP_FUNCTION_CTRL_BUS_ADDR_INPUT_R_DATA,IN_Address)\n",
    "    mmio.write(XTOP_FUNCTION_CTRL_BUS_ADDR_DATA_NUM_DATA,DATA_NUM)\n",
    "    mmio.write(XTOP_FUNCTION_CTRL_BUS_ADDR_BURST_LENGTH_DATA,BURST_LENGTH)\n",
    "    start_time=time.time()\n",
    "    # Start the IP\n",
    "    mmio.write(XTOP_FUNCTION_CTRL_BUS_ADDR_GIE,0)\n",
    "    mmio.write(XTOP_FUNCTION_CTRL_BUS_ADDR_AP_CTRL,1)\n",
    "    \n",
    "    while True:\n",
    "        ap_done =(mmio.read(XTOP_FUNCTION_CTRL_BUS_ADDR_AP_CTRL)>>1)&0x01\n",
    "        if(ap_done):\n",
    "            break\n",
    "    end_time=time.time()\n",
    "    return (end_time-start_time)"
   ]
  },
  {
   "cell_type": "code",
   "execution_count": 5,
   "metadata": {},
   "outputs": [
    {
     "name": "stderr",
     "output_type": "stream",
     "text": [
      "/usr/local/lib/python3.6/dist-packages/pynq/pl_server/device.py:594: UserWarning: Users will not get PARAMETERS / REGISTERS information through TCL files. HWH file is recommended.\n",
      "  warnings.warn(message, UserWarning)\n"
     ]
    }
   ],
   "source": [
    "overlay=Overlay(\"./burst_ip_150_fix.bit\")\n",
    "# overlay?"
   ]
  },
  {
   "cell_type": "code",
   "execution_count": 6,
   "metadata": {},
   "outputs": [
    {
     "name": "stdout",
     "output_type": "stream",
     "text": [
      "Before the allocation: Available Memory (MB): 127\n"
     ]
    }
   ],
   "source": [
    "xlnk=Xlnk()\n",
    "xlnk.xlnk_reset()\n",
    "\n",
    "print('Before the allocation:',end=' ')\n",
    "print_mb(xlnk)"
   ]
  },
  {
   "cell_type": "code",
   "execution_count": 7,
   "metadata": {},
   "outputs": [
    {
     "name": "stdout",
     "output_type": "stream",
     "text": [
      "Copy Data Done!!!\n",
      "[3405643776 3405643777 3405643778 3405643779 3405643780 3405643781\n",
      " 3405643782 3405643783 3405643784 3405643785]\n",
      "After the allocation: Available Memory (MB): 49\n"
     ]
    }
   ],
   "source": [
    "input_buffer=xlnk.cma_array(shape=(DATA_SIZE,), dtype=np.uint32)\n",
    "INPUT_BASE = input_buffer.physical_address\n",
    "\n",
    "input_value=np.fromfile('./64MB.bin', dtype=np.uint32)\n",
    "np.copyto(input_buffer, input_value)\n",
    "print(\"Copy Data Done!!!\")\n",
    "\n",
    "print(input_buffer[0:10])\n",
    "\n",
    "print('After the allocation:',end=' ')\n",
    "print_mb(xlnk)"
   ]
  },
  {
   "cell_type": "code",
   "execution_count": 8,
   "metadata": {},
   "outputs": [
    {
     "name": "stdout",
     "output_type": "stream",
     "text": [
      "Function Start\n",
      "Done! Total Transmission Time:  9.1552734375e-05\n"
     ]
    }
   ],
   "source": [
    "print(\"Function Start\")\n",
    "\n",
    "\"\"\"\n",
    "start_time=time.time()\n",
    "transmit_ip(INPUT_BASE,DATA_NUM,BURST_LENGTH)\n",
    "end_time=time.time()\n",
    "\n",
    "execution_time=end_time-start_time\n",
    "\"\"\"\n",
    "execution_time=transmit_ip(INPUT_BASE,DATA_NUM,BURST_LENGTH)\n",
    "\n",
    "print(\"Done! Total Transmission Time: \",str(execution_time))"
   ]
  },
  {
   "cell_type": "markdown",
   "metadata": {},
   "source": [
    "# Clear the data and free the memory"
   ]
  },
  {
   "cell_type": "code",
   "execution_count": 9,
   "metadata": {},
   "outputs": [],
   "source": [
    "del input_buffer\n",
    "xlnk.xlnk_reset()"
   ]
  },
  {
   "cell_type": "code",
   "execution_count": 10,
   "metadata": {},
   "outputs": [
    {
     "name": "stdout",
     "output_type": "stream",
     "text": [
      "9.1552734375e-05   699050.6666666666\n"
     ]
    }
   ],
   "source": [
    "bandwidth=(64/execution_time)\n",
    "print(execution_time,\" \",bandwidth)"
   ]
  },
  {
   "cell_type": "code",
   "execution_count": null,
   "metadata": {},
   "outputs": [],
   "source": []
  }
 ],
 "metadata": {
  "kernelspec": {
   "display_name": "Python 3",
   "language": "python",
   "name": "python3"
  },
  "language_info": {
   "codemirror_mode": {
    "name": "ipython",
    "version": 3
   },
   "file_extension": ".py",
   "mimetype": "text/x-python",
   "name": "python",
   "nbconvert_exporter": "python",
   "pygments_lexer": "ipython3",
   "version": "3.6.5"
  }
 },
 "nbformat": 4,
 "nbformat_minor": 2
}
